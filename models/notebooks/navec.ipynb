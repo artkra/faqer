{
 "cells": [
  {
   "cell_type": "code",
   "execution_count": 1,
   "metadata": {},
   "outputs": [
    {
     "name": "stdout",
     "output_type": "stream",
     "text": [
      "--2020-12-28 14:20:51--  https://storage.yandexcloud.net/natasha-navec/packs/navec_hudlit_v1_12B_500K_300d_100q.tar\n",
      "Resolving storage.yandexcloud.net (storage.yandexcloud.net)... 213.180.193.243, 2a02:6b8::1d9\n",
      "Connecting to storage.yandexcloud.net (storage.yandexcloud.net)|213.180.193.243|:443... connected.\n",
      "HTTP request sent, awaiting response... 200 OK\n",
      "Length: 53012480 (51M) [application/x-tar]\n",
      "Saving to: ‘navec_hudlit_v1_12B_500K_300d_100q.tar’\n",
      "\n",
      "navec_hudlit_v1_12B 100%[===================>]  50.56M  36.5MB/s    in 1.4s    \n",
      "\n",
      "2020-12-28 14:20:53 (36.5 MB/s) - ‘navec_hudlit_v1_12B_500K_300d_100q.tar’ saved [53012480/53012480]\n",
      "\n"
     ]
    }
   ],
   "source": [
    "!wget https://storage.yandexcloud.net/natasha-navec/packs/navec_hudlit_v1_12B_500K_300d_100q.tar"
   ]
  },
  {
   "cell_type": "code",
   "execution_count": 8,
   "metadata": {},
   "outputs": [],
   "source": []
  },
  {
   "cell_type": "code",
   "execution_count": 114,
   "metadata": {},
   "outputs": [],
   "source": [
    "import torch\n",
    "from navec import Navec\n",
    "from slovnet.model.emb import NavecEmbedding\n",
    "\n",
    "path = '/home/artkra/SOURCES/faqer/data/navec/navec_hudlit_v1_12B_500K_300d_100q.tar'\n",
    "navec = Navec.load(path)\n",
    "\n",
    "words = ['лось']\n",
    "\n",
    "ids = [navec.vocab[w] for w in words]\n",
    "emb = NavecEmbedding(navec)\n",
    "input = torch.tensor(ids)\n"
   ]
  },
  {
   "cell_type": "code",
   "execution_count": 117,
   "metadata": {},
   "outputs": [
    {
     "data": {
      "text/plain": [
       "torch.Size([1, 300])"
      ]
     },
     "execution_count": 117,
     "metadata": {},
     "output_type": "execute_result"
    }
   ],
   "source": [
    "emb(input).shape"
   ]
  },
  {
   "cell_type": "code",
   "execution_count": null,
   "metadata": {},
   "outputs": [],
   "source": []
  },
  {
   "cell_type": "code",
   "execution_count": 97,
   "metadata": {},
   "outputs": [],
   "source": [
    "from nltk.stem.snowball import RussianStemmer\n",
    "\n",
    "\n",
    "def prepare_word(word):\n",
    "    stemmer = RussianStemmer()\n",
    "    return stemmer.stem(word.lower())\n",
    "\n",
    "\n",
    "from torch.nn import PairwiseDistance\n",
    "\n",
    "def dist(w1, w2):\n",
    "    if w1 not in navec.vocab or w2 not in navec.vocab:\n",
    "        return None\n",
    "    return PairwiseDistance()(\n",
    "        emb(torch.tensor([navec.vocab.get(w1, navec.vocab.unk_id)])),\n",
    "        emb(torch.tensor([navec.vocab.get(w2, navec.vocab.pad_id)]))\n",
    "    )"
   ]
  },
  {
   "cell_type": "code",
   "execution_count": 107,
   "metadata": {},
   "outputs": [
    {
     "data": {
      "text/plain": [
       "184624"
      ]
     },
     "execution_count": 107,
     "metadata": {},
     "output_type": "execute_result"
    }
   ],
   "source": [
    "navec.vocab['крем']"
   ]
  },
  {
   "cell_type": "code",
   "execution_count": null,
   "metadata": {},
   "outputs": [],
   "source": []
  }
 ],
 "metadata": {
  "kernelspec": {
   "display_name": "Python 3",
   "language": "python",
   "name": "python3"
  },
  "language_info": {
   "codemirror_mode": {
    "name": "ipython",
    "version": 3
   },
   "file_extension": ".py",
   "mimetype": "text/x-python",
   "name": "python",
   "nbconvert_exporter": "python",
   "pygments_lexer": "ipython3",
   "version": "3.6.9"
  }
 },
 "nbformat": 4,
 "nbformat_minor": 4
}
