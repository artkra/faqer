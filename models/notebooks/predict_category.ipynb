{
 "cells": [
  {
   "cell_type": "code",
   "execution_count": 1,
   "metadata": {},
   "outputs": [],
   "source": [
    "from faqer.services.cluster.suggest import categories_service"
   ]
  },
  {
   "cell_type": "code",
   "execution_count": 2,
   "metadata": {},
   "outputs": [
    {
     "data": {
      "text/plain": [
       "{0: {'id': 0,\n",
       "  'name': '',\n",
       "  'keywords': ['привет', 'плз', 'чат', 'подскажите', 'плиз']},\n",
       " 1: {'id': 1,\n",
       "  'name': '',\n",
       "  'keywords': ['нужно', 'кому', 'обратиться', 'подскажите']},\n",
       " 2: {'id': 2,\n",
       "  'name': '',\n",
       "  'keywords': ['могу', 'сделать', 'нужно', 'private', 'создать']},\n",
       " 3: {'id': 3, 'name': '', 'keywords': ['получить', 'доступ']}}"
      ]
     },
     "execution_count": 2,
     "metadata": {},
     "output_type": "execute_result"
    }
   ],
   "source": [
    "categories_service._categories"
   ]
  },
  {
   "cell_type": "code",
   "execution_count": 7,
   "metadata": {},
   "outputs": [],
   "source": [
    "sumvec = []\n",
    "for i, cat in categories_service._categories.items():\n",
    "    ir = []\n",
    "    for word in cat['keywords']:\n",
    "        ir.append(categories_service.rdt_calc.w2v.word_vec(word))\n",
    "    sumvec.append((i, cat['keywords'], sum(ir)))"
   ]
  },
  {
   "cell_type": "code",
   "execution_count": 42,
   "metadata": {},
   "outputs": [],
   "source": [
    "from faqer.services.data.utils import tokenize_text, get_trigrams\n"
   ]
  },
  {
   "cell_type": "code",
   "execution_count": 43,
   "metadata": {},
   "outputs": [],
   "source": [
    "def get_sum_vector(sentence):\n",
    "    tokens = tokenize_text(sentence, do_stem=False)\n",
    "    sumvec = sum([categories_service.rdt_calc.w2v.word_vec(token) for token in tokens])\n",
    "    return sumvec"
   ]
  },
  {
   "cell_type": "code",
   "execution_count": null,
   "metadata": {},
   "outputs": [],
   "source": []
  },
  {
   "cell_type": "code",
   "execution_count": 48,
   "metadata": {},
   "outputs": [],
   "source": [
    "from scipy.spatial.distance import pdist\n",
    "\n",
    "res = []\n",
    "\n",
    "for trigram in get_trigrams(tokenize_text('помогите с доступом', do_stem=False)):\n",
    "    ir = []\n",
    "    for vec in sumvec:\n",
    "        ir.append(pdist([get_sum_vector(trigram), vec[2]]))\n",
    "    res.append((vec[1], ir))"
   ]
  },
  {
   "cell_type": "code",
   "execution_count": 52,
   "metadata": {},
   "outputs": [
    {
     "data": {
      "text/plain": [
       "['помогите', 'доступом']"
      ]
     },
     "execution_count": 52,
     "metadata": {},
     "output_type": "execute_result"
    }
   ],
   "source": [
    "tokenize_text('помогите с доступом', do_stem=False)"
   ]
  },
  {
   "cell_type": "code",
   "execution_count": null,
   "metadata": {},
   "outputs": [],
   "source": []
  }
 ],
 "metadata": {
  "kernelspec": {
   "display_name": "Django Shell-Plus",
   "language": "python",
   "name": "django_extensions"
  },
  "language_info": {
   "codemirror_mode": {
    "name": "ipython",
    "version": 3
   },
   "file_extension": ".py",
   "mimetype": "text/x-python",
   "name": "python",
   "nbconvert_exporter": "python",
   "pygments_lexer": "ipython3",
   "version": "3.6.9"
  }
 },
 "nbformat": 4,
 "nbformat_minor": 4
}
