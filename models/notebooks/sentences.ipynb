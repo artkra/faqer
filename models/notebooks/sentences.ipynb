{
 "cells": [
  {
   "cell_type": "code",
   "execution_count": 1,
   "metadata": {},
   "outputs": [],
   "source": [
    "from faqer.services.classificator.eval import NavecDistCalculator, IOWDistCalculator, RDTModel\n",
    "from faqer.services.data.utils import get_lines, get_text, tokenize_text, get_trigrams"
   ]
  },
  {
   "cell_type": "code",
   "execution_count": 2,
   "metadata": {},
   "outputs": [
    {
     "name": "stderr",
     "output_type": "stream",
     "text": [
      "[2020-12-30 15:01:53,042] [INFO] loading projection weights from /home/artkra/SOURCES/faqer/models/rdt/all.norm-sz100-w10-cb0-it1-min100.w2v\n",
      "[2020-12-30 15:02:01,218] [WARNING] duplicate word '……………………………………………………………………………………' in word2vec file, ignoring all but first\n",
      "[2020-12-30 15:02:01,452] [INFO] duplicate words detected, shrinking matrix size from 1239965 to 1239964\n",
      "[2020-12-30 15:02:01,453] [INFO] loaded (1239964, 100) matrix from /home/artkra/SOURCES/faqer/models/rdt/all.norm-sz100-w10-cb0-it1-min100.w2v\n",
      "[2020-12-30 15:02:01,454] [INFO] precomputing L2-norms of word weight vectors\n"
     ]
    }
   ],
   "source": [
    "rdt_calc = RDTModel()"
   ]
  },
  {
   "cell_type": "code",
   "execution_count": 726,
   "metadata": {},
   "outputs": [
    {
     "name": "stdout",
     "output_type": "stream",
     "text": [
      "CPU times: user 32.5 s, sys: 12.7 s, total: 45.2 s\n",
      "Wall time: 9.2 s\n"
     ]
    }
   ],
   "source": [
    "%%time \n",
    "\n",
    "from gensim.summarization import keywords\n",
    "\n",
    "text = ''\n",
    "for line in get_lines():\n",
    "    if '?' in line:\n",
    "        text += line\n",
    "kwds = set(keywords(text).split())"
   ]
  },
  {
   "cell_type": "code",
   "execution_count": null,
   "metadata": {},
   "outputs": [],
   "source": []
  },
  {
   "cell_type": "code",
   "execution_count": 727,
   "metadata": {},
   "outputs": [
    {
     "name": "stdout",
     "output_type": "stream",
     "text": [
      "CPU times: user 20.8 s, sys: 1.59 s, total: 22.3 s\n",
      "Wall time: 22.4 s\n"
     ]
    }
   ],
   "source": [
    "%%time\n",
    "\n",
    "from scipy.spatial.distance import pdist\n",
    "from numpy import ndarray\n",
    "import statistics\n",
    "\n",
    "res = []\n",
    "\n",
    "custom_stopwords = ['http', 'https', 'это']\n",
    "\n",
    "trigram_vectors = []\n",
    "trigrams = []\n",
    "\n",
    "\n",
    "for line in get_lines():\n",
    "    if '?' not in line:\n",
    "        continue\n",
    "    tokens = tokenize_text(line, do_stem=False)\n",
    "    tokens = [t for t in tokens if t in kwds]\n",
    "#     tokens = [t for t in tokens if t not in custom_stopwords]\n",
    "    dists = []\n",
    "    \n",
    "    for input_trigram in get_trigrams(tokens):\n",
    "        for sent_trigram in get_trigrams(sent_tokens):\n",
    "            sum1 = sum([rdt_calc.w2v.word_vec(w) for w in sent_trigram if w in rdt_calc.w2v.vocab])\n",
    "            sum2 = sum([rdt_calc.w2v.word_vec(w) for w in input_trigram if w in rdt_calc.w2v.vocab])\n",
    "            if isinstance(sum1, ndarray) and isinstance(sum2, ndarray):\n",
    "                trigram_vectors.append(sum2)\n",
    "                trigrams.append(input_trigram)\n",
    "                dists += [pdist([sum1, sum2])]\n",
    "\n",
    "    if len(dists):\n",
    "        dist = statistics.median([d.mean() for d in dists])\n",
    "        res.append((line, dist))\n",
    "            \n",
    "    "
   ]
  },
  {
   "cell_type": "code",
   "execution_count": 728,
   "metadata": {},
   "outputs": [
    {
     "data": {
      "text/plain": [
       "17747"
      ]
     },
     "execution_count": 728,
     "metadata": {},
     "output_type": "execute_result"
    }
   ],
   "source": [
    "len(trigram_vectors)"
   ]
  },
  {
   "cell_type": "code",
   "execution_count": 730,
   "metadata": {},
   "outputs": [
    {
     "name": "stdout",
     "output_type": "stream",
     "text": [
      "CPU times: user 18.9 s, sys: 23.6 s, total: 42.6 s\n",
      "Wall time: 6.27 s\n"
     ]
    },
    {
     "data": {
      "text/plain": [
       "3"
      ]
     },
     "execution_count": 730,
     "metadata": {},
     "output_type": "execute_result"
    }
   ],
   "source": [
    "%%time\n",
    "from sklearn.cluster import DBSCAN\n",
    "from sklearn.preprocessing import StandardScaler\n",
    "from sklearn.neighbors import kneighbors_graph\n",
    "\n",
    "X = trigram_vectors\n",
    "# X = StandardScaler().fit_transform(X)\n",
    "\n",
    "dbscan = DBSCAN(eps=0.99, min_samples=19).fit(X)\n",
    "\n",
    "labels = dbscan.labels_\n",
    "n_clusters_ = len(set(labels)) - (1 if -1 in labels else 0)\n",
    "n_clusters_\n",
    "        "
   ]
  },
  {
   "cell_type": "code",
   "execution_count": 731,
   "metadata": {},
   "outputs": [],
   "source": [
    "from collections import Counter\n",
    "from statistics import mean\n",
    "\n",
    "clusters_summary = []\n",
    "for c in range(n_clusters_): \n",
    "    clust_words = Counter()\n",
    "    for i, k in enumerate(dbscan.labels_):\n",
    "        if k==c:\n",
    "            clust_words += Counter([x for x in trigrams[i]])\n",
    "    mean_freq = mean(list(clust_words.values()))\n",
    "    clusters_summary.append([w for w in clust_words.keys() if clust_words[w] > mean_freq])"
   ]
  },
  {
   "cell_type": "code",
   "execution_count": 732,
   "metadata": {},
   "outputs": [
    {
     "data": {
      "text/plain": [
       "[['тикет', 'https', 'это'], ['нужно', 'кому', 'обратиться', 'подскажите']]"
      ]
     },
     "execution_count": 732,
     "metadata": {},
     "output_type": "execute_result"
    }
   ],
   "source": [
    "clusters_summary[1:]"
   ]
  },
  {
   "cell_type": "code",
   "execution_count": 713,
   "metadata": {},
   "outputs": [],
   "source": [
    "# 0.99 15"
   ]
  },
  {
   "cell_type": "code",
   "execution_count": 723,
   "metadata": {},
   "outputs": [],
   "source": [
    "from statistics import mean\n",
    "\n",
    "def predict_cat(sentence):\n",
    "    dists = []\n",
    "    for i, summary in enumerate(clusters_summary):\n",
    "        clust_dists = []\n",
    "        for word in tokenize_text(sentence, do_stem=False):\n",
    "            for kwrd in summary:\n",
    "                dist = rdt_calc.dist_words(word, kwrd)\n",
    "                if dist:\n",
    "                    clust_dists.append(dist)\n",
    "        dists.append((i, mean(clust_dists)))\n",
    "    return dists"
   ]
  },
  {
   "cell_type": "code",
   "execution_count": 724,
   "metadata": {},
   "outputs": [
    {
     "data": {
      "text/plain": [
       "[(0, 0.6413111973221547),\n",
       " (1, 0.5503824452559153),\n",
       " (2, 0.6289453506469727),\n",
       " (3, 0.5853347107768059),\n",
       " (4, 0.545369052224689),\n",
       " (5, 0.5227172300219536),\n",
       " (6, 0.6448385914166769),\n",
       " (7, 0.5252452835440635),\n",
       " (8, 0.5938576087355614),\n",
       " (9, 0.5256103393104341),\n",
       " (10, 0.609868818273147)]"
      ]
     },
     "execution_count": 724,
     "metadata": {},
     "output_type": "execute_result"
    }
   ],
   "source": [
    "predict_cat('можно, пожалуйста, получить доступ')"
   ]
  },
  {
   "cell_type": "code",
   "execution_count": 737,
   "metadata": {},
   "outputs": [
    {
     "data": {
      "text/plain": [
       "{'aborted',\n",
       " 'access',\n",
       " 'account',\n",
       " 'active',\n",
       " 'add',\n",
       " 'address',\n",
       " 'agent',\n",
       " 'allowed',\n",
       " 'amp',\n",
       " 'api',\n",
       " 'app',\n",
       " 'apr',\n",
       " 'apt',\n",
       " 'artifactory',\n",
       " 'auth',\n",
       " 'authentication',\n",
       " 'authorization',\n",
       " 'authorized',\n",
       " 'available',\n",
       " 'aws',\n",
       " 'bad',\n",
       " 'bidswitch',\n",
       " 'bionic',\n",
       " 'bit',\n",
       " 'bot',\n",
       " 'branch',\n",
       " 'bsw',\n",
       " 'build',\n",
       " 'bytes',\n",
       " 'certificate',\n",
       " 'change',\n",
       " 'changed',\n",
       " 'changes',\n",
       " 'changeset',\n",
       " 'changesets',\n",
       " 'channel',\n",
       " 'check',\n",
       " 'cipher',\n",
       " 'client',\n",
       " 'code',\n",
       " 'commit',\n",
       " 'config',\n",
       " 'configuration',\n",
       " 'confluence',\n",
       " 'connect',\n",
       " 'connection',\n",
       " 'create',\n",
       " 'created',\n",
       " 'crucible',\n",
       " 'curl',\n",
       " 'cvs',\n",
       " 'dashboard',\n",
       " 'data',\n",
       " 'default',\n",
       " 'denied',\n",
       " 'devops',\n",
       " 'diff',\n",
       " 'directory',\n",
       " 'disappointed',\n",
       " 'disk',\n",
       " 'docker',\n",
       " 'documentation',\n",
       " 'email',\n",
       " 'end',\n",
       " 'error',\n",
       " 'errors',\n",
       " 'exists',\n",
       " 'expected',\n",
       " 'failed',\n",
       " 'failure',\n",
       " 'file',\n",
       " 'files',\n",
       " 'following',\n",
       " 'forbidden',\n",
       " 'frontend',\n",
       " 'git',\n",
       " 'gitlab',\n",
       " 'gmail',\n",
       " 'google',\n",
       " 'gpg',\n",
       " 'graphite',\n",
       " 'guys',\n",
       " 'help',\n",
       " 'hook',\n",
       " 'host',\n",
       " 'http',\n",
       " 'https',\n",
       " 'idm',\n",
       " 'image',\n",
       " 'info',\n",
       " 'information',\n",
       " 'inrelease',\n",
       " 'installed',\n",
       " 'internal',\n",
       " 'invalid',\n",
       " 'iow',\n",
       " 'iponweb',\n",
       " 'issue',\n",
       " 'issues',\n",
       " 'jenkins',\n",
       " 'jira',\n",
       " 'job',\n",
       " 'jun',\n",
       " 'key',\n",
       " 'keyserver',\n",
       " 'layer',\n",
       " 'ldap',\n",
       " 'like',\n",
       " 'line',\n",
       " 'link',\n",
       " 'lists',\n",
       " 'local',\n",
       " 'login',\n",
       " 'mail',\n",
       " 'mailto',\n",
       " 'maintenance',\n",
       " 'mercurial',\n",
       " 'message',\n",
       " 'messages',\n",
       " 'new',\n",
       " 'notify',\n",
       " 'number',\n",
       " 'objects',\n",
       " 'obs',\n",
       " 'office',\n",
       " 'old',\n",
       " 'openvpn',\n",
       " 'operation',\n",
       " 'package',\n",
       " 'packages',\n",
       " 'password',\n",
       " 'permission',\n",
       " 'ping',\n",
       " 'policy',\n",
       " 'post',\n",
       " 'posted',\n",
       " 'private',\n",
       " 'problem',\n",
       " 'process',\n",
       " 'project',\n",
       " 'provide',\n",
       " 'public',\n",
       " 'pull',\n",
       " 'puppet',\n",
       " 'push',\n",
       " 'question',\n",
       " 'queue',\n",
       " 'read',\n",
       " 'received',\n",
       " 'release',\n",
       " 'remote',\n",
       " 'remove',\n",
       " 'removed',\n",
       " 'repo',\n",
       " 'repository',\n",
       " 'request',\n",
       " 'requested',\n",
       " 'required',\n",
       " 'requires',\n",
       " 'resolving',\n",
       " 'response',\n",
       " 'retrieve',\n",
       " 'returned',\n",
       " 'run',\n",
       " 'running',\n",
       " 'server',\n",
       " 'service',\n",
       " 'serving',\n",
       " 'set',\n",
       " 'settings',\n",
       " 'size',\n",
       " 'slack',\n",
       " 'source',\n",
       " 'space',\n",
       " 'ssh',\n",
       " 'start',\n",
       " 'status',\n",
       " 'suite',\n",
       " 'support',\n",
       " 'tag',\n",
       " 'team',\n",
       " 'techops',\n",
       " 'temporary',\n",
       " 'ticket',\n",
       " 'tickets',\n",
       " 'time',\n",
       " 'timed',\n",
       " 'timeout',\n",
       " 'timesheet',\n",
       " 'timesheets',\n",
       " 'tls',\n",
       " 'token',\n",
       " 'try',\n",
       " 'trying',\n",
       " 'uauth',\n",
       " 'ubuntu',\n",
       " 'unable',\n",
       " 'unauthorized',\n",
       " 'unknown',\n",
       " 'update',\n",
       " 'updated',\n",
       " 'upredict',\n",
       " 'url',\n",
       " 'use',\n",
       " 'user',\n",
       " 'users',\n",
       " 'uworkflow',\n",
       " 'value',\n",
       " 'vault',\n",
       " 'verification',\n",
       " 'version',\n",
       " 'view',\n",
       " 'vpn',\n",
       " 'warning',\n",
       " 'weak',\n",
       " 'zabbix',\n",
       " 'артифактори',\n",
       " 'вижу',\n",
       " 'возможно',\n",
       " 'вообще',\n",
       " 'вопрос',\n",
       " 'время',\n",
       " 'вроде',\n",
       " 'всем',\n",
       " 'гитлаб',\n",
       " 'гитлабе',\n",
       " 'графане',\n",
       " 'дать',\n",
       " 'делать',\n",
       " 'день',\n",
       " 'джире',\n",
       " 'джиру',\n",
       " 'добавить',\n",
       " 'должен',\n",
       " 'доступ',\n",
       " 'доступа',\n",
       " 'если',\n",
       " 'есть',\n",
       " 'знает',\n",
       " 'кажется',\n",
       " 'как',\n",
       " 'коммит',\n",
       " 'кому',\n",
       " 'конфлюенс',\n",
       " 'конфлюенсе',\n",
       " 'крусибл',\n",
       " 'кто',\n",
       " 'лдап',\n",
       " 'мне',\n",
       " 'могу',\n",
       " 'может',\n",
       " 'можете',\n",
       " 'можно',\n",
       " 'нам',\n",
       " 'например',\n",
       " 'нормально',\n",
       " 'нотификации',\n",
       " 'нужен',\n",
       " 'нужно',\n",
       " 'обратиться',\n",
       " 'оно',\n",
       " 'очень',\n",
       " 'плз',\n",
       " 'плиз',\n",
       " 'поводу',\n",
       " 'подскажите',\n",
       " 'подсказать',\n",
       " 'получается',\n",
       " 'получить',\n",
       " 'помочь',\n",
       " 'понимаю',\n",
       " 'попросить',\n",
       " 'посмотреть',\n",
       " 'почему',\n",
       " 'правильно',\n",
       " 'привет',\n",
       " 'проблема',\n",
       " 'проект',\n",
       " 'проекта',\n",
       " 'просто',\n",
       " 'работает',\n",
       " 'работать',\n",
       " 'раньше',\n",
       " 'репозитории',\n",
       " 'репозиторию',\n",
       " 'репозитория',\n",
       " 'сделать',\n",
       " 'сегодня',\n",
       " 'скажите',\n",
       " 'слаке',\n",
       " 'создать',\n",
       " 'сюда',\n",
       " 'такое',\n",
       " 'тикет',\n",
       " 'тикета',\n",
       " 'тикетов',\n",
       " 'тикету',\n",
       " 'тикеты',\n",
       " 'хотя',\n",
       " 'хочу',\n",
       " 'что',\n",
       " 'этим',\n",
       " 'это'}"
      ]
     },
     "execution_count": 737,
     "metadata": {},
     "output_type": "execute_result"
    }
   ],
   "source": [
    "set().union(*clusters_summary)"
   ]
  },
  {
   "cell_type": "code",
   "execution_count": 589,
   "metadata": {},
   "outputs": [
    {
     "name": "stdout",
     "output_type": "stream",
     "text": [
      "13.021954674220963\n",
      "3.1153846153846154\n",
      "3.096774193548387\n",
      "4.695652173913044\n",
      "3.6666666666666665\n"
     ]
    }
   ],
   "source": [
    "from statistics import mean\n",
    "\n",
    "for i in range(n_clusters_):\n",
    "    print(mean(list(clusters_summary[i].values())))\n",
    "\n"
   ]
  },
  {
   "cell_type": "code",
   "execution_count": 198,
   "metadata": {},
   "outputs": [
    {
     "name": "stdout",
     "output_type": "stream",
     "text": [
      "CPU times: user 53.4 ms, sys: 32.3 ms, total: 85.7 ms\n",
      "Wall time: 19.2 ms\n"
     ]
    },
    {
     "data": {
      "text/plain": [
       "1"
      ]
     },
     "execution_count": 198,
     "metadata": {},
     "output_type": "execute_result"
    }
   ],
   "source": []
  },
  {
   "cell_type": "code",
   "execution_count": 670,
   "metadata": {},
   "outputs": [
    {
     "data": {
      "text/plain": [
       "True"
      ]
     },
     "execution_count": 670,
     "metadata": {},
     "output_type": "execute_result"
    }
   ],
   "source": [
    "import nltk\n",
    "'что' in nltk.corpus.stopwords.words('russian')"
   ]
  },
  {
   "cell_type": "code",
   "execution_count": null,
   "metadata": {},
   "outputs": [],
   "source": []
  },
  {
   "cell_type": "code",
   "execution_count": 188,
   "metadata": {},
   "outputs": [
    {
     "name": "stdout",
     "output_type": "stream",
     "text": [
      "543 такую 6\n",
      "564 эту 6\n",
      "983 какую 6\n",
      "1033 одну 6\n",
      "1214 свою 6\n",
      "1504 которую 6\n",
      "1552 новую 6\n"
     ]
    }
   ],
   "source": []
  },
  {
   "cell_type": "code",
   "execution_count": 6,
   "metadata": {},
   "outputs": [
    {
     "data": {
      "image/png": "[encoded data removed]",
      "text/plain": [
       "<Figure size 432x288 with 1 Axes>"
      ]
     },
     "metadata": {
      "needs_background": "light"
     },
     "output_type": "display_data"
    }
   ],
   "source": [
    "import matplotlib.pyplot as plt\n",
    "import numpy as np\n",
    "\n",
    "n_clusters_ = len(set(db.labels_)) - (1 if -1 in db.labels_ else 0)\n",
    "\n",
    "labels = db.labels_\n",
    "core_samples_mask = np.zeros_like(db.labels_, dtype=bool)\n",
    "core_samples_mask[db.core_sample_indices_] = True\n",
    "labels = db.labels_\n",
    "\n",
    "# Number of clusters in labels, ignoring noise if present.\n",
    "n_clusters_ = len(set(labels)) - (1 if -1 in labels else 0)\n",
    "n_noise_ = list(labels).count(-1)\n",
    "\n",
    "# Black removed and is used for noise instead.\n",
    "unique_labels = set(labels)\n",
    "colors = [plt.cm.Spectral(each)\n",
    "          for each in np.linspace(0, 1, len(unique_labels))]\n",
    "for k, col in zip(unique_labels, colors):\n",
    "    if k == -1:\n",
    "        # Black used for noise.\n",
    "        col = [0, 0, 0, 1]\n",
    "\n",
    "    class_member_mask = (labels == k)\n",
    "\n",
    "    xy = X[class_member_mask & core_samples_mask]\n",
    "    plt.plot(xy[:, 0], xy[:, 1], 'o', markerfacecolor=tuple(col),\n",
    "             markeredgecolor='k', markersize=14)\n",
    "\n",
    "    xy = X[class_member_mask & ~core_samples_mask]\n",
    "    plt.plot(xy[:, 0], xy[:, 1], 'o', markerfacecolor=tuple(col),\n",
    "             markeredgecolor='k', markersize=6)\n",
    "\n",
    "plt.title('Estimated number of clusters: %d' % n_clusters_)\n",
    "plt.show()"
   ]
  },
  {
   "cell_type": "code",
   "execution_count": 7,
   "metadata": {},
   "outputs": [
    {
     "data": {
      "text/plain": [
       "17"
      ]
     },
     "execution_count": 7,
     "metadata": {},
     "output_type": "execute_result"
    }
   ],
   "source": [
    "n_clusters_"
   ]
  },
  {
   "cell_type": "code",
   "execution_count": 8,
   "metadata": {},
   "outputs": [],
   "source": [
    "import copy\n",
    "\n",
    "def label_line(line):\n",
    "    db = copy.deepcopy(db)\n",
    "    sumnew = sum([rdt_calc.w2v.word_vec(w) for w in line if w in rdt_calc.w2v.vocab])\n",
    "    if isinstance(sumnew, ndarray):\n",
    "        data = StandardScaler().fit_transform([sumnew])\n",
    "        return db.fit_predict(data)[0]\n",
    "    return -1"
   ]
  },
  {
   "cell_type": "code",
   "execution_count": 9,
   "metadata": {},
   "outputs": [],
   "source": [
    "# for line in get_lines():\n",
    "#     if '?' not in line:\n",
    "#         continue\n",
    "#     tokens = tokenize_text(line, do_stem=False)\n",
    "    \n",
    "#     for input_trigram in get_trigrams(tokens):\n",
    "#         try:\n",
    "#             label = label_line(input_trigram)\n",
    "#             if label.mean() > -1:\n",
    "#                 print(line, label)\n",
    "#         except Exception:\n",
    "#             pass"
   ]
  },
  {
   "cell_type": "code",
   "execution_count": null,
   "metadata": {},
   "outputs": [],
   "source": []
  },
  {
   "cell_type": "code",
   "execution_count": 1,
   "metadata": {},
   "outputs": [],
   "source": [
    "# list(filter(lambda x: x >0, aff.labels_))"
   ]
  },
  {
   "cell_type": "code",
   "execution_count": 16,
   "metadata": {},
   "outputs": [],
   "source": []
  },
  {
   "cell_type": "code",
   "execution_count": null,
   "metadata": {},
   "outputs": [],
   "source": []
  },
  {
   "cell_type": "code",
   "execution_count": null,
   "metadata": {},
   "outputs": [],
   "source": []
  },
  {
   "cell_type": "code",
   "execution_count": null,
   "metadata": {},
   "outputs": [],
   "source": []
  },
  {
   "cell_type": "code",
   "execution_count": null,
   "metadata": {},
   "outputs": [],
   "source": []
  },
  {
   "cell_type": "code",
   "execution_count": null,
   "metadata": {},
   "outputs": [],
   "source": []
  },
  {
   "cell_type": "code",
   "execution_count": null,
   "metadata": {},
   "outputs": [],
   "source": []
  },
  {
   "cell_type": "code",
   "execution_count": null,
   "metadata": {},
   "outputs": [],
   "source": []
  },
  {
   "cell_type": "code",
   "execution_count": null,
   "metadata": {},
   "outputs": [],
   "source": []
  },
  {
   "cell_type": "code",
   "execution_count": null,
   "metadata": {},
   "outputs": [],
   "source": []
  },
  {
   "cell_type": "code",
   "execution_count": null,
   "metadata": {},
   "outputs": [],
   "source": []
  },
  {
   "cell_type": "code",
   "execution_count": null,
   "metadata": {},
   "outputs": [],
   "source": []
  },
  {
   "cell_type": "code",
   "execution_count": null,
   "metadata": {},
   "outputs": [],
   "source": []
  },
  {
   "cell_type": "code",
   "execution_count": null,
   "metadata": {},
   "outputs": [],
   "source": []
  },
  {
   "cell_type": "code",
   "execution_count": null,
   "metadata": {},
   "outputs": [],
   "source": []
  }
 ],
 "metadata": {
  "kernelspec": {
   "display_name": "Django Shell-Plus",
   "language": "python",
   "name": "django_extensions"
  },
  "language_info": {
   "codemirror_mode": {
    "name": "ipython",
    "version": 3
   },
   "file_extension": ".py",
   "mimetype": "text/x-python",
   "name": "python",
   "nbconvert_exporter": "python",
   "pygments_lexer": "ipython3",
   "version": "3.6.9"
  }
 },
 "nbformat": 4,
 "nbformat_minor": 4
}
